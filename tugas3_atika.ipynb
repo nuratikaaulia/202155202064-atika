{
  "cells": [
    {
      "cell_type": "markdown",
      "metadata": {
        "id": "view-in-github",
        "colab_type": "text"
      },
      "source": [
        "<a href=\"https://colab.research.google.com/github/nuratikaaulia/202155202064-atika/blob/master/tugas3_atika.ipynb\" target=\"_parent\"><img src=\"https://colab.research.google.com/assets/colab-badge.svg\" alt=\"Open In Colab\"/></a>"
      ]
    },
    {
      "cell_type": "code",
      "execution_count": 1,
      "metadata": {
        "id": "FsGAITLQkLSV"
      },
      "outputs": [],
      "source": [
        "import tensorflow as tf\n",
        "import matplotlib.pyplot as plt\n",
        "import numpy as np\n",
        "import pandas as pd\n",
        "from tensorflow.keras import datasets,models,layers"
      ]
    },
    {
      "cell_type": "code",
      "execution_count": 2,
      "metadata": {
        "id": "w3gC0iYzkXDA"
      },
      "outputs": [],
      "source": [
        "data = tf.keras.datasets.cifar10\n",
        "# The CIFAR10 dataset contains 60,000 color images in 10 classes,\n",
        "# with 6,000 images in each class. The dataset is divided into 50,000 training\n",
        "# images and 10,000 testing images."
      ]
    },
    {
      "cell_type": "code",
      "execution_count": 3,
      "metadata": {
        "colab": {
          "base_uri": "https://localhost:8080/"
        },
        "id": "kyvhOPGskfYy",
        "outputId": "12759cd2-c0a8-41f4-95ac-99876eb6f487"
      },
      "outputs": [
        {
          "output_type": "stream",
          "name": "stdout",
          "text": [
            "Downloading data from https://www.cs.toronto.edu/~kriz/cifar-10-python.tar.gz\n",
            "170498071/170498071 [==============================] - 3s 0us/step\n"
          ]
        }
      ],
      "source": [
        "(train_images, train_labels), (test_images, test_labels) = data.load_data()"
      ]
    },
    {
      "cell_type": "code",
      "execution_count": 4,
      "metadata": {
        "colab": {
          "base_uri": "https://localhost:8080/"
        },
        "id": "JLE7Dh2zkl3b",
        "outputId": "01f7ba50-ad6e-4106-f97d-081f2e3e73b6"
      },
      "outputs": [
        {
          "output_type": "execute_result",
          "data": {
            "text/plain": [
              "(50000, 32, 32, 3)"
            ]
          },
          "metadata": {},
          "execution_count": 4
        }
      ],
      "source": [
        "train_images.shape"
      ]
    },
    {
      "cell_type": "code",
      "execution_count": 5,
      "metadata": {
        "colab": {
          "base_uri": "https://localhost:8080/"
        },
        "id": "B2iB0M7NkpSO",
        "outputId": "af451506-08b0-4207-e72e-c228358461ac"
      },
      "outputs": [
        {
          "output_type": "execute_result",
          "data": {
            "text/plain": [
              "(10000, 32, 32, 3)"
            ]
          },
          "metadata": {},
          "execution_count": 5
        }
      ],
      "source": [
        "test_images.shape"
      ]
    },
    {
      "cell_type": "code",
      "execution_count": 6,
      "metadata": {
        "colab": {
          "base_uri": "https://localhost:8080/"
        },
        "id": "BebuPsFikwAU",
        "outputId": "2d9d1f33-a81f-4625-8621-863bbcc29905"
      },
      "outputs": [
        {
          "output_type": "stream",
          "name": "stdout",
          "text": [
            "[6]\n"
          ]
        }
      ],
      "source": [
        "print(train_labels[0])"
      ]
    },
    {
      "cell_type": "code",
      "execution_count": 8,
      "metadata": {
        "colab": {
          "base_uri": "https://localhost:8080/"
        },
        "id": "AoMqMW0Zkxwa",
        "outputId": "6f7d4388-4fe4-44d1-caba-5d173284dcad"
      },
      "outputs": [
        {
          "output_type": "stream",
          "name": "stdout",
          "text": [
            "[[[154 177 187]\n",
            "  [126 137 136]\n",
            "  [105 104  95]\n",
            "  ...\n",
            "  [ 91  95  71]\n",
            "  [ 87  90  71]\n",
            "  [ 79  81  70]]\n",
            "\n",
            " [[140 160 169]\n",
            "  [145 153 154]\n",
            "  [125 125 118]\n",
            "  ...\n",
            "  [ 96  99  78]\n",
            "  [ 77  80  62]\n",
            "  [ 71  73  61]]\n",
            "\n",
            " [[140 155 164]\n",
            "  [139 146 149]\n",
            "  [115 115 112]\n",
            "  ...\n",
            "  [ 79  82  64]\n",
            "  [ 68  70  55]\n",
            "  [ 67  69  55]]\n",
            "\n",
            " ...\n",
            "\n",
            " [[175 167 166]\n",
            "  [156 154 160]\n",
            "  [154 160 170]\n",
            "  ...\n",
            "  [ 42  34  36]\n",
            "  [ 61  53  57]\n",
            "  [ 93  83  91]]\n",
            "\n",
            " [[165 154 128]\n",
            "  [156 152 130]\n",
            "  [159 161 142]\n",
            "  ...\n",
            "  [103  93  96]\n",
            "  [123 114 120]\n",
            "  [131 121 131]]\n",
            "\n",
            " [[163 148 120]\n",
            "  [158 148 122]\n",
            "  [163 156 133]\n",
            "  ...\n",
            "  [143 133 139]\n",
            "  [143 134 142]\n",
            "  [143 133 144]]]\n"
          ]
        }
      ],
      "source": [
        "print(train_images[1])"
      ]
    },
    {
      "cell_type": "code",
      "execution_count": 10,
      "metadata": {
        "colab": {
          "base_uri": "https://localhost:8080/",
          "height": 430
        },
        "id": "lALf1Nk7k1D9",
        "outputId": "c7fe2052-ba14-4641-b254-eed74ea2e947"
      },
      "outputs": [
        {
          "output_type": "display_data",
          "data": {
            "text/plain": [
              "<Figure size 640x480 with 2 Axes>"
            ],
            "image/png": "[encoded data removed]"
          },
          "metadata": {}
        }
      ],
      "source": [
        "plt.figure()\n",
        "plt.imshow(train_images[1])\n",
        "plt.colorbar()\n",
        "plt.grid(False)\n",
        "\n",
        "plt.show()"
      ]
    },
    {
      "cell_type": "code",
      "execution_count": 11,
      "metadata": {
        "colab": {
          "base_uri": "https://localhost:8080/",
          "height": 303
        },
        "id": "pd6g49D5k-9o",
        "outputId": "d432d415-52ee-43d0-f1e0-d4110532bcf5"
      },
      "outputs": [
        {
          "output_type": "display_data",
          "data": {
            "text/plain": [
              "<Figure size 640x480 with 6 Axes>"
            ],
            "image/png": "[encoded data removed]"
          },
          "metadata": {}
        }
      ],
      "source": [
        " for i in range(6):\n",
        "\t# define subplot\n",
        "\tplt.subplot(330 + 1 + i)\n",
        "\t# plot raw pixel data\n",
        "\tplt.imshow(train_images[i])\n",
        "plt.show()"
      ]
    },
    {
      "cell_type": "code",
      "execution_count": 12,
      "metadata": {
        "id": "5TGkUYqTlEts"
      },
      "outputs": [],
      "source": [
        "#Normalize\n",
        "\n",
        "train_images, test_images = train_images / 255.0, test_images / 255.0"
      ]
    },
    {
      "cell_type": "code",
      "execution_count": 13,
      "metadata": {
        "id": "JiReBKO4lGYo"
      },
      "outputs": [],
      "source": [
        "model = tf.keras.models.Sequential([\n",
        "                        tf.keras.layers.Conv2D(32, (3, 3), activation='relu', input_shape=(32, 32, 3)),\n",
        "                        tf.keras.layers.MaxPooling2D(2, 2),\n",
        "                        tf.keras.layers.Conv2D(64, (3, 3), activation='relu'),\n",
        "                        tf.keras.layers.MaxPooling2D(2, 2),\n",
        "                        tf.keras.layers.Conv2D(512, (3, 3), activation='relu'),\n",
        "                        tf.keras.layers.Flatten(),\n",
        "                        tf.keras.layers.Dense(512, activation='relu'),\n",
        "                        tf.keras.layers.Dense(10, activation='softmax')])"
      ]
    },
    {
      "cell_type": "code",
      "execution_count": 14,
      "metadata": {
        "colab": {
          "base_uri": "https://localhost:8080/"
        },
        "id": "Yz2s_EJ_lL8v",
        "outputId": "5502fae9-9221-4072-cba1-aadec6dcbb62"
      },
      "outputs": [
        {
          "output_type": "stream",
          "name": "stdout",
          "text": [
            "Model: \"sequential\"\n",
            "_________________________________________________________________\n",
            " Layer (type)                Output Shape              Param #   \n",
            "=================================================================\n",
            " conv2d (Conv2D)             (None, 30, 30, 32)        896       \n",
            "                                                                 \n",
            " max_pooling2d (MaxPooling2  (None, 15, 15, 32)        0         \n",
            " D)                                                              \n",
            "                                                                 \n",
            " conv2d_1 (Conv2D)           (None, 13, 13, 64)        18496     \n",
            "                                                                 \n",
            " max_pooling2d_1 (MaxPoolin  (None, 6, 6, 64)          0         \n",
            " g2D)                                                            \n",
            "                                                                 \n",
            " conv2d_2 (Conv2D)           (None, 4, 4, 512)         295424    \n",
            "                                                                 \n",
            " flatten (Flatten)           (None, 8192)              0         \n",
            "                                                                 \n",
            " dense (Dense)               (None, 512)               4194816   \n",
            "                                                                 \n",
            " dense_1 (Dense)             (None, 10)                5130      \n",
            "                                                                 \n",
            "=================================================================\n",
            "Total params: 4514762 (17.22 MB)\n",
            "Trainable params: 4514762 (17.22 MB)\n",
            "Non-trainable params: 0 (0.00 Byte)\n",
            "_________________________________________________________________\n"
          ]
        }
      ],
      "source": [
        "model.summary()"
      ]
    },
    {
      "cell_type": "code",
      "execution_count": 17,
      "metadata": {
        "colab": {
          "base_uri": "https://localhost:8080/"
        },
        "id": "CUHj6sLHlP2G",
        "outputId": "e36b3efc-99b7-47d1-bb85-d4f1d8505485"
      },
      "outputs": [
        {
          "output_type": "stream",
          "name": "stdout",
          "text": [
            "Epoch 1/100\n",
            "1563/1563 [==============================] - 11s 6ms/step - loss: 0.0805 - accuracy: 0.9912 - val_loss: 10.1517 - val_accuracy: 0.6937\n",
            "Epoch 2/100\n",
            "1563/1563 [==============================] - 9s 6ms/step - loss: 0.0581 - accuracy: 0.9933 - val_loss: 9.9820 - val_accuracy: 0.6979\n",
            "Epoch 3/100\n",
            "1563/1563 [==============================] - 9s 6ms/step - loss: 0.0826 - accuracy: 0.9906 - val_loss: 9.8650 - val_accuracy: 0.6955\n",
            "Epoch 4/100\n",
            "1563/1563 [==============================] - 9s 6ms/step - loss: 0.0617 - accuracy: 0.9928 - val_loss: 10.7633 - val_accuracy: 0.6945\n",
            "Epoch 5/100\n",
            "1563/1563 [==============================] - 8s 5ms/step - loss: 0.0821 - accuracy: 0.9913 - val_loss: 10.8803 - val_accuracy: 0.6917\n",
            "Epoch 6/100\n",
            "1563/1563 [==============================] - 9s 6ms/step - loss: 0.0661 - accuracy: 0.9923 - val_loss: 10.9709 - val_accuracy: 0.6952\n",
            "Epoch 7/100\n",
            "1563/1563 [==============================] - 8s 5ms/step - loss: 0.0581 - accuracy: 0.9933 - val_loss: 10.8492 - val_accuracy: 0.6970\n",
            "Epoch 8/100\n",
            "1563/1563 [==============================] - 9s 5ms/step - loss: 0.0737 - accuracy: 0.9916 - val_loss: 10.5426 - val_accuracy: 0.6978\n",
            "Epoch 9/100\n",
            "1563/1563 [==============================] - 9s 6ms/step - loss: 0.0742 - accuracy: 0.9923 - val_loss: 11.0827 - val_accuracy: 0.6945\n",
            "Epoch 10/100\n",
            "1563/1563 [==============================] - 8s 5ms/step - loss: 0.0630 - accuracy: 0.9933 - val_loss: 10.6333 - val_accuracy: 0.6873\n",
            "Epoch 11/100\n",
            "1563/1563 [==============================] - 8s 5ms/step - loss: 0.0839 - accuracy: 0.9916 - val_loss: 10.9429 - val_accuracy: 0.6937\n",
            "Epoch 12/100\n",
            "1563/1563 [==============================] - 9s 6ms/step - loss: 0.0780 - accuracy: 0.9916 - val_loss: 11.4268 - val_accuracy: 0.6856\n",
            "Epoch 13/100\n",
            "1563/1563 [==============================] - 9s 6ms/step - loss: 0.0800 - accuracy: 0.9926 - val_loss: 11.1780 - val_accuracy: 0.7014\n",
            "Epoch 14/100\n",
            "1563/1563 [==============================] - 9s 5ms/step - loss: 0.0666 - accuracy: 0.9927 - val_loss: 11.4194 - val_accuracy: 0.6896\n",
            "Epoch 15/100\n",
            "1563/1563 [==============================] - 8s 5ms/step - loss: 0.0624 - accuracy: 0.9931 - val_loss: 11.6704 - val_accuracy: 0.6932\n",
            "Epoch 16/100\n",
            "1563/1563 [==============================] - 9s 6ms/step - loss: 0.0804 - accuracy: 0.9921 - val_loss: 11.4642 - val_accuracy: 0.6999\n",
            "Epoch 17/100\n",
            "1563/1563 [==============================] - 8s 5ms/step - loss: 0.0818 - accuracy: 0.9919 - val_loss: 11.7248 - val_accuracy: 0.7002\n",
            "Epoch 18/100\n",
            "1563/1563 [==============================] - 8s 5ms/step - loss: 0.0789 - accuracy: 0.9924 - val_loss: 12.2148 - val_accuracy: 0.6936\n",
            "Epoch 19/100\n",
            "1563/1563 [==============================] - 8s 5ms/step - loss: 0.0739 - accuracy: 0.9922 - val_loss: 12.2162 - val_accuracy: 0.6861\n",
            "Epoch 20/100\n",
            "1563/1563 [==============================] - 8s 5ms/step - loss: 0.0793 - accuracy: 0.9926 - val_loss: 12.5086 - val_accuracy: 0.6887\n",
            "Epoch 21/100\n",
            "1563/1563 [==============================] - 9s 6ms/step - loss: 0.0777 - accuracy: 0.9928 - val_loss: 12.4763 - val_accuracy: 0.6935\n",
            "Epoch 22/100\n",
            "1563/1563 [==============================] - 8s 5ms/step - loss: 0.0740 - accuracy: 0.9922 - val_loss: 13.0485 - val_accuracy: 0.6959\n",
            "Epoch 23/100\n",
            "1563/1563 [==============================] - 9s 6ms/step - loss: 0.0695 - accuracy: 0.9930 - val_loss: 12.2653 - val_accuracy: 0.7028\n",
            "Epoch 24/100\n",
            "1563/1563 [==============================] - 9s 6ms/step - loss: 0.0665 - accuracy: 0.9938 - val_loss: 13.0847 - val_accuracy: 0.6837\n",
            "Epoch 25/100\n",
            "1563/1563 [==============================] - 8s 5ms/step - loss: 0.0811 - accuracy: 0.9922 - val_loss: 13.1294 - val_accuracy: 0.6916\n",
            "Epoch 26/100\n",
            "1563/1563 [==============================] - 9s 6ms/step - loss: 0.0806 - accuracy: 0.9929 - val_loss: 13.4413 - val_accuracy: 0.7034\n",
            "Epoch 27/100\n",
            "1563/1563 [==============================] - 8s 5ms/step - loss: 0.0796 - accuracy: 0.9930 - val_loss: 13.2941 - val_accuracy: 0.7006\n",
            "Epoch 28/100\n",
            "1563/1563 [==============================] - 9s 6ms/step - loss: 0.0930 - accuracy: 0.9921 - val_loss: 14.2753 - val_accuracy: 0.6906\n",
            "Epoch 29/100\n",
            "1563/1563 [==============================] - 9s 6ms/step - loss: 0.0846 - accuracy: 0.9927 - val_loss: 13.0551 - val_accuracy: 0.6977\n",
            "Epoch 30/100\n",
            "1563/1563 [==============================] - 9s 6ms/step - loss: 0.0642 - accuracy: 0.9933 - val_loss: 14.1485 - val_accuracy: 0.6916\n",
            "Epoch 31/100\n",
            "1563/1563 [==============================] - 9s 6ms/step - loss: 0.1001 - accuracy: 0.9915 - val_loss: 13.0200 - val_accuracy: 0.7022\n",
            "Epoch 32/100\n",
            "1563/1563 [==============================] - 8s 5ms/step - loss: 0.0778 - accuracy: 0.9933 - val_loss: 13.5026 - val_accuracy: 0.6981\n",
            "Epoch 33/100\n",
            "1563/1563 [==============================] - 8s 5ms/step - loss: 0.0732 - accuracy: 0.9933 - val_loss: 14.1309 - val_accuracy: 0.7006\n",
            "Epoch 34/100\n",
            "1563/1563 [==============================] - 10s 6ms/step - loss: 0.0832 - accuracy: 0.9928 - val_loss: 13.4340 - val_accuracy: 0.7015\n",
            "Epoch 35/100\n",
            "1563/1563 [==============================] - 9s 5ms/step - loss: 0.0718 - accuracy: 0.9936 - val_loss: 14.4821 - val_accuracy: 0.6941\n",
            "Epoch 36/100\n",
            "1563/1563 [==============================] - 8s 5ms/step - loss: 0.0829 - accuracy: 0.9933 - val_loss: 14.2329 - val_accuracy: 0.6897\n",
            "Epoch 37/100\n",
            "1563/1563 [==============================] - 8s 5ms/step - loss: 0.0837 - accuracy: 0.9927 - val_loss: 14.4081 - val_accuracy: 0.7021\n",
            "Epoch 38/100\n",
            "1563/1563 [==============================] - 9s 6ms/step - loss: 0.0849 - accuracy: 0.9930 - val_loss: 14.9591 - val_accuracy: 0.7010\n",
            "Epoch 39/100\n",
            "1563/1563 [==============================] - 8s 5ms/step - loss: 0.0685 - accuracy: 0.9946 - val_loss: 15.2521 - val_accuracy: 0.7010\n",
            "Epoch 40/100\n",
            "1563/1563 [==============================] - 9s 6ms/step - loss: 0.0761 - accuracy: 0.9937 - val_loss: 15.6371 - val_accuracy: 0.7011\n",
            "Epoch 41/100\n",
            "1563/1563 [==============================] - 9s 5ms/step - loss: 0.1041 - accuracy: 0.9924 - val_loss: 16.1801 - val_accuracy: 0.6938\n",
            "Epoch 42/100\n",
            "1563/1563 [==============================] - 9s 5ms/step - loss: 0.0861 - accuracy: 0.9929 - val_loss: 15.1913 - val_accuracy: 0.6882\n",
            "Epoch 43/100\n",
            "1563/1563 [==============================] - 9s 6ms/step - loss: 0.0689 - accuracy: 0.9945 - val_loss: 16.3808 - val_accuracy: 0.6866\n",
            "Epoch 44/100\n",
            "1563/1563 [==============================] - 9s 6ms/step - loss: 0.1231 - accuracy: 0.9922 - val_loss: 16.5533 - val_accuracy: 0.7018\n",
            "Epoch 45/100\n",
            "1563/1563 [==============================] - 8s 5ms/step - loss: 0.0929 - accuracy: 0.9937 - val_loss: 15.8839 - val_accuracy: 0.7061\n",
            "Epoch 46/100\n",
            "1563/1563 [==============================] - 8s 5ms/step - loss: 0.0828 - accuracy: 0.9943 - val_loss: 16.0845 - val_accuracy: 0.7006\n",
            "Epoch 47/100\n",
            "1563/1563 [==============================] - 9s 6ms/step - loss: 0.0940 - accuracy: 0.9933 - val_loss: 16.4995 - val_accuracy: 0.6987\n",
            "Epoch 48/100\n",
            "1563/1563 [==============================] - 8s 5ms/step - loss: 0.0786 - accuracy: 0.9943 - val_loss: 17.2401 - val_accuracy: 0.7013\n",
            "Epoch 49/100\n",
            "1563/1563 [==============================] - 9s 6ms/step - loss: 0.1016 - accuracy: 0.9930 - val_loss: 16.9324 - val_accuracy: 0.7030\n",
            "Epoch 50/100\n",
            "1563/1563 [==============================] - 8s 5ms/step - loss: 0.0804 - accuracy: 0.9938 - val_loss: 16.5225 - val_accuracy: 0.7003\n",
            "Epoch 51/100\n",
            "1563/1563 [==============================] - 8s 5ms/step - loss: 0.0776 - accuracy: 0.9943 - val_loss: 17.0726 - val_accuracy: 0.6997\n",
            "Epoch 52/100\n",
            "1563/1563 [==============================] - 9s 6ms/step - loss: 0.0846 - accuracy: 0.9941 - val_loss: 17.6061 - val_accuracy: 0.6933\n",
            "Epoch 53/100\n",
            "1563/1563 [==============================] - 9s 5ms/step - loss: 0.1037 - accuracy: 0.9927 - val_loss: 16.8076 - val_accuracy: 0.7061\n",
            "Epoch 54/100\n",
            "1563/1563 [==============================] - 8s 5ms/step - loss: 0.0761 - accuracy: 0.9940 - val_loss: 18.0505 - val_accuracy: 0.6885\n",
            "Epoch 55/100\n",
            "1563/1563 [==============================] - 9s 5ms/step - loss: 0.0933 - accuracy: 0.9936 - val_loss: 17.2992 - val_accuracy: 0.6968\n",
            "Epoch 56/100\n",
            "1563/1563 [==============================] - 9s 6ms/step - loss: 0.0736 - accuracy: 0.9946 - val_loss: 17.4478 - val_accuracy: 0.6930\n",
            "Epoch 57/100\n",
            "1563/1563 [==============================] - 9s 6ms/step - loss: 0.1008 - accuracy: 0.9936 - val_loss: 18.1347 - val_accuracy: 0.6950\n",
            "Epoch 58/100\n",
            "1563/1563 [==============================] - 8s 5ms/step - loss: 0.0758 - accuracy: 0.9949 - val_loss: 18.2342 - val_accuracy: 0.6982\n",
            "Epoch 59/100\n",
            "1563/1563 [==============================] - 9s 5ms/step - loss: 0.0999 - accuracy: 0.9935 - val_loss: 18.5059 - val_accuracy: 0.6929\n",
            "Epoch 60/100\n",
            "1563/1563 [==============================] - 9s 6ms/step - loss: 0.1120 - accuracy: 0.9930 - val_loss: 18.2560 - val_accuracy: 0.6918\n",
            "Epoch 61/100\n",
            "1563/1563 [==============================] - 9s 6ms/step - loss: 0.0843 - accuracy: 0.9946 - val_loss: 19.9773 - val_accuracy: 0.6921\n",
            "Epoch 62/100\n",
            "1563/1563 [==============================] - 9s 6ms/step - loss: 0.1002 - accuracy: 0.9932 - val_loss: 19.6030 - val_accuracy: 0.6969\n",
            "Epoch 63/100\n",
            "1563/1563 [==============================] - 9s 6ms/step - loss: 0.0910 - accuracy: 0.9941 - val_loss: 20.8325 - val_accuracy: 0.6910\n",
            "Epoch 64/100\n",
            "1563/1563 [==============================] - 8s 5ms/step - loss: 0.0984 - accuracy: 0.9942 - val_loss: 20.0471 - val_accuracy: 0.6988\n",
            "Epoch 65/100\n",
            "1563/1563 [==============================] - 9s 6ms/step - loss: 0.0857 - accuracy: 0.9942 - val_loss: 21.1226 - val_accuracy: 0.6883\n",
            "Epoch 66/100\n",
            "1563/1563 [==============================] - 9s 5ms/step - loss: 0.0889 - accuracy: 0.9942 - val_loss: 20.7687 - val_accuracy: 0.6934\n",
            "Epoch 67/100\n",
            "1563/1563 [==============================] - 8s 5ms/step - loss: 0.0981 - accuracy: 0.9939 - val_loss: 20.8420 - val_accuracy: 0.6980\n",
            "Epoch 68/100\n",
            "1563/1563 [==============================] - 9s 6ms/step - loss: 0.1058 - accuracy: 0.9938 - val_loss: 22.3754 - val_accuracy: 0.6923\n",
            "Epoch 69/100\n",
            "1563/1563 [==============================] - 8s 5ms/step - loss: 0.1005 - accuracy: 0.9938 - val_loss: 22.7679 - val_accuracy: 0.6916\n",
            "Epoch 70/100\n",
            "1563/1563 [==============================] - 9s 6ms/step - loss: 0.0940 - accuracy: 0.9946 - val_loss: 21.4064 - val_accuracy: 0.6980\n",
            "Epoch 71/100\n",
            "1563/1563 [==============================] - 9s 6ms/step - loss: 0.1235 - accuracy: 0.9935 - val_loss: 22.1858 - val_accuracy: 0.6882\n",
            "Epoch 72/100\n",
            "1563/1563 [==============================] - 8s 5ms/step - loss: 0.0936 - accuracy: 0.9946 - val_loss: 21.6979 - val_accuracy: 0.6964\n",
            "Epoch 73/100\n",
            "1563/1563 [==============================] - 9s 6ms/step - loss: 0.0951 - accuracy: 0.9950 - val_loss: 24.0637 - val_accuracy: 0.6916\n",
            "Epoch 74/100\n",
            "1563/1563 [==============================] - 8s 5ms/step - loss: 0.1062 - accuracy: 0.9940 - val_loss: 22.8565 - val_accuracy: 0.6981\n",
            "Epoch 75/100\n",
            "1563/1563 [==============================] - 9s 5ms/step - loss: 0.0918 - accuracy: 0.9948 - val_loss: 21.4690 - val_accuracy: 0.6965\n",
            "Epoch 76/100\n",
            "1563/1563 [==============================] - 8s 5ms/step - loss: 0.0913 - accuracy: 0.9950 - val_loss: 24.0557 - val_accuracy: 0.6932\n",
            "Epoch 77/100\n",
            "1563/1563 [==============================] - 8s 5ms/step - loss: 0.0989 - accuracy: 0.9949 - val_loss: 21.8570 - val_accuracy: 0.6971\n",
            "Epoch 78/100\n",
            "1563/1563 [==============================] - 9s 6ms/step - loss: 0.0916 - accuracy: 0.9946 - val_loss: 24.1856 - val_accuracy: 0.6949\n",
            "Epoch 79/100\n",
            "1563/1563 [==============================] - 8s 5ms/step - loss: 0.1090 - accuracy: 0.9943 - val_loss: 22.3995 - val_accuracy: 0.6984\n",
            "Epoch 80/100\n",
            "1563/1563 [==============================] - 8s 5ms/step - loss: 0.1219 - accuracy: 0.9935 - val_loss: 23.5927 - val_accuracy: 0.6987\n",
            "Epoch 81/100\n",
            "1563/1563 [==============================] - 9s 6ms/step - loss: 0.0924 - accuracy: 0.9954 - val_loss: 24.5881 - val_accuracy: 0.6995\n",
            "Epoch 82/100\n",
            "1563/1563 [==============================] - 9s 6ms/step - loss: 0.1053 - accuracy: 0.9944 - val_loss: 24.1087 - val_accuracy: 0.7023\n",
            "Epoch 83/100\n",
            "1563/1563 [==============================] - 9s 6ms/step - loss: 0.1143 - accuracy: 0.9942 - val_loss: 24.4975 - val_accuracy: 0.7017\n",
            "Epoch 84/100\n",
            "1563/1563 [==============================] - 8s 5ms/step - loss: 0.0913 - accuracy: 0.9953 - val_loss: 24.6499 - val_accuracy: 0.7044\n",
            "Epoch 85/100\n",
            "1563/1563 [==============================] - 9s 6ms/step - loss: 0.0988 - accuracy: 0.9949 - val_loss: 25.0241 - val_accuracy: 0.6930\n",
            "Epoch 86/100\n",
            "1563/1563 [==============================] - 9s 5ms/step - loss: 0.1022 - accuracy: 0.9944 - val_loss: 23.9793 - val_accuracy: 0.6984\n",
            "Epoch 87/100\n",
            "1563/1563 [==============================] - 9s 5ms/step - loss: 0.0925 - accuracy: 0.9948 - val_loss: 25.8690 - val_accuracy: 0.6984\n",
            "Epoch 88/100\n",
            "1563/1563 [==============================] - 8s 5ms/step - loss: 0.1141 - accuracy: 0.9947 - val_loss: 26.7982 - val_accuracy: 0.7039\n",
            "Epoch 89/100\n",
            "1563/1563 [==============================] - 8s 5ms/step - loss: 0.0855 - accuracy: 0.9954 - val_loss: 27.0522 - val_accuracy: 0.7039\n",
            "Epoch 90/100\n",
            "1563/1563 [==============================] - 9s 6ms/step - loss: 0.0966 - accuracy: 0.9953 - val_loss: 26.7116 - val_accuracy: 0.7001\n",
            "Epoch 91/100\n",
            "1563/1563 [==============================] - 9s 5ms/step - loss: 0.1304 - accuracy: 0.9936 - val_loss: 25.8734 - val_accuracy: 0.7039\n",
            "Epoch 92/100\n",
            "1563/1563 [==============================] - 9s 5ms/step - loss: 0.1211 - accuracy: 0.9945 - val_loss: 27.6084 - val_accuracy: 0.6967\n",
            "Epoch 93/100\n",
            "1563/1563 [==============================] - 9s 6ms/step - loss: 0.1053 - accuracy: 0.9952 - val_loss: 26.2713 - val_accuracy: 0.6945\n",
            "Epoch 94/100\n",
            "1563/1563 [==============================] - 8s 5ms/step - loss: 0.1072 - accuracy: 0.9948 - val_loss: 26.7185 - val_accuracy: 0.7027\n",
            "Epoch 95/100\n",
            "1563/1563 [==============================] - 8s 5ms/step - loss: 0.0963 - accuracy: 0.9949 - val_loss: 27.4069 - val_accuracy: 0.6996\n",
            "Epoch 96/100\n",
            "1563/1563 [==============================] - 8s 5ms/step - loss: 0.1088 - accuracy: 0.9954 - val_loss: 28.1307 - val_accuracy: 0.6998\n",
            "Epoch 97/100\n",
            "1563/1563 [==============================] - 9s 6ms/step - loss: 0.1107 - accuracy: 0.9950 - val_loss: 29.1736 - val_accuracy: 0.6897\n",
            "Epoch 98/100\n",
            "1563/1563 [==============================] - 8s 5ms/step - loss: 0.1162 - accuracy: 0.9943 - val_loss: 29.0220 - val_accuracy: 0.6887\n",
            "Epoch 99/100\n",
            "1563/1563 [==============================] - 8s 5ms/step - loss: 0.0916 - accuracy: 0.9953 - val_loss: 28.5379 - val_accuracy: 0.6951\n",
            "Epoch 100/100\n",
            "1563/1563 [==============================] - 9s 6ms/step - loss: 0.1113 - accuracy: 0.9952 - val_loss: 30.2120 - val_accuracy: 0.6918\n"
          ]
        }
      ],
      "source": [
        "model.compile(optimizer='adam', loss='sparse_categorical_crossentropy', metrics=['accuracy'])\n",
        "\n",
        "history = model.fit(train_images, train_labels, epochs=100,\n",
        "                    validation_data=(test_images, test_labels))"
      ]
    },
    {
      "cell_type": "code",
      "execution_count": 18,
      "metadata": {
        "colab": {
          "base_uri": "https://localhost:8080/",
          "height": 472
        },
        "id": "Aw8VbKd3ldBc",
        "outputId": "6078024c-f828-45b4-eed5-af5494dd3369"
      },
      "outputs": [
        {
          "output_type": "execute_result",
          "data": {
            "text/plain": [
              "<matplotlib.legend.Legend at 0x7ef116c8dff0>"
            ]
          },
          "metadata": {},
          "execution_count": 18
        },
        {
          "output_type": "display_data",
          "data": {
            "text/plain": [
              "<Figure size 640x480 with 1 Axes>"
            ],
            "image/png": "[encoded data removed]"
          },
          "metadata": {}
        }
      ],
      "source": [
        "plt.plot(history.history['accuracy'], label='accuracy')\n",
        "plt.plot(history.history['val_accuracy'], label = 'val_accuracy')\n",
        "plt.xlabel('Epoch')\n",
        "plt.ylabel('Accuracy')\n",
        "plt.ylim([0.5, 1])\n",
        "plt.legend(loc='lower right')"
      ]
    }
  ],
  "metadata": {
    "colab": {
      "provenance": [],
      "gpuType": "T4",
      "include_colab_link": true
    },
    "kernelspec": {
      "display_name": "Python 3",
      "name": "python3"
    },
    "language_info": {
      "name": "python"
    },
    "accelerator": "GPU"
  },
  "nbformat": 4,
  "nbformat_minor": 0
}